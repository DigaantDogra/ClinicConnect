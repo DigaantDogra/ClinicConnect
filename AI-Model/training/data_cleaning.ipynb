{
 "cells": [
  {
   "cell_type": "markdown",
   "metadata": {},
   "source": [
    "Importing Datasets"
   ]
  },
  {
   "cell_type": "code",
   "execution_count": 2,
   "metadata": {},
   "outputs": [],
   "source": [
    "from os import read\n",
    "import pandas as pd \n",
    "df_nhanes = pd.read_csv(\"/Users/arjunanand/Documents/SE_Project/ClinicConnect/AI-Model/data/Nhanes_2013_2014.csv\")\n",
    "df_convo = pd.read_csv(\"/Users/arjunanand/Documents/SE_Project/ClinicConnect/AI-Model/data/Doctor-HealthCare-100k.csv\")"
   ]
  },
  {
   "cell_type": "markdown",
   "metadata": {},
   "source": [
    "Cleaning Datasets"
   ]
  },
  {
   "cell_type": "code",
   "execution_count": 2,
   "metadata": {},
   "outputs": [],
   "source": [
    "from pdfminer.high_level import extract_text\n",
    "import re\n",
    "\n",
    "text = extract_text(\"/Users/arjunanand/Documents/SE_Project/ClinicConnect/AI-Model/data/oasis.pdf\")\n",
    "\n",
    "# Remove common patterns\n",
    "patterns = [\n",
    "    r\"PRA Disclosure Statement.*?Baltimore, Maryland 21244-1850\\.\",\n",
    "    r\"Page \\d+ of \\d+\",\n",
    "    r\"\\*{5}CMS Disclaimer\\*{5}.*?retained\\.\",  # Disclaimer block\n",
    "    r\"OASIS-E1 All Items Effective.*?Centers for Medicare & Medicaid Services\",\n",
    "    r\"\\n\\s*\\n\"  # Empty lines\n",
    "]\n",
    "\n",
    "for pattern in patterns:\n",
    "    text = re.sub(pattern, \"\", text, flags=re.DOTALL)\n",
    "\n",
    "# Save cleaned text\n",
    "with open(\"clean_oasis.txt\", \"w\") as f:\n",
    "    f.write(text)"
   ]
  },
  {
   "cell_type": "markdown",
   "metadata": {},
   "source": []
  },
  {
   "cell_type": "code",
   "execution_count": 3,
   "metadata": {},
   "outputs": [],
   "source": [
    "import pandas as pd\n",
    "\n",
    "df = pd.read_csv(\"/Users/arjunanand/Documents/SE_Project/ClinicConnect/AI-Model/data/Doctor-HealthCare-100k.csv\")\n",
    "\n",
    "#Remove duplicates\n",
    "df = df.drop_duplicates(subset=[\"input\"])\n",
    "\n",
    "#Trim whitespace\n",
    "df[\"output\"] = df[\"output\"].str.strip()\n",
    "\n",
    "#Filter invalid responses\n",
    "df = df[df[\"output\"].str.contains(\"Chat Doctor|ENT evaluation|I hope\", na=False)]\n",
    "\n",
    "#Add safety disclaimers\n",
    "df[\"output\"] = df[\"output\"] + \"\\n\\nDISCLAIMER: This is simulated advice. Consult a real doctor.\""
   ]
  }
 ],
 "metadata": {
  "kernelspec": {
   "display_name": "ai-env",
   "language": "python",
   "name": "python3"
  },
  "language_info": {
   "codemirror_mode": {
    "name": "ipython",
    "version": 3
   },
   "file_extension": ".py",
   "mimetype": "text/x-python",
   "name": "python",
   "nbconvert_exporter": "python",
   "pygments_lexer": "ipython3",
   "version": "3.13.2"
  }
 },
 "nbformat": 4,
 "nbformat_minor": 2
}
