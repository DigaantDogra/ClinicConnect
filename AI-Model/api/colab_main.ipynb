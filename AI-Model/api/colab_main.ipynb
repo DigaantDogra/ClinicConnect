{
 "cells": [
  {
   "cell_type": "code",
   "execution_count": null,
   "metadata": {},
   "outputs": [],
   "source": [
    "from os import read\n",
    "import pandas as pd \n",
    "df_nhanes = pd.read_csv(\"/Users/arjunanand/Documents/SE_Project/ClinicConnect/AI-Model/data/Nhanes_2013_2014.csv\")\n",
    "df_convo = pd.read_csv(\"/Users/arjunanand/Documents/SE_Project/ClinicConnect/AI-Model/data/Doctor-HealthCare-100k.csv\")"
   ]
  },
  {
   "cell_type": "markdown",
   "metadata": {},
   "source": [
    "ddesd"
   ]
  }
 ],
 "metadata": {
  "language_info": {
   "name": "python"
  }
 },
 "nbformat": 4,
 "nbformat_minor": 2
}
